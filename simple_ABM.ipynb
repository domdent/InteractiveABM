{
 "cells": [
  {
   "cell_type": "markdown",
   "metadata": {},
   "source": [
    "# A simple agent-based model"
   ]
  },
  {
   "cell_type": "markdown",
   "metadata": {},
   "source": [
    "An interactive ABM"
   ]
  },
  {
   "cell_type": "code",
   "execution_count": 23,
   "metadata": {},
   "outputs": [
    {
     "name": "stdout",
     "output_type": "stream",
     "text": [
      "Requirement already satisfied: abce in c:\\users\\dom\\anaconda3\\lib\\site-packages (0.9.5b0)\n",
      "Requirement already satisfied: numpy>=1.10.2p in c:\\users\\dom\\anaconda3\\lib\\site-packages (from abce) (1.13.3)\n",
      "Requirement already satisfied: future in c:\\users\\dom\\anaconda3\\lib\\site-packages (from abce) (0.16.0)\n",
      "Requirement already satisfied: pandas>=0.17.1 in c:\\users\\dom\\anaconda3\\lib\\site-packages (from abce) (0.20.3)\n",
      "Requirement already satisfied: networkx>=1.9.1 in c:\\users\\dom\\anaconda3\\lib\\site-packages (from abce) (2.0)\n",
      "Requirement already satisfied: flexx>=0.4.1 in c:\\users\\dom\\anaconda3\\lib\\site-packages (from abce) (0.4.1)\n",
      "Requirement already satisfied: dataset==0.8 in c:\\users\\dom\\anaconda3\\lib\\site-packages (from abce) (0.8.0)\n",
      "Requirement already satisfied: bokeh==0.12.7 in c:\\users\\dom\\anaconda3\\lib\\site-packages (from abce) (0.12.7)\n",
      "Requirement already satisfied: python-dateutil>=2 in c:\\users\\dom\\anaconda3\\lib\\site-packages (from pandas>=0.17.1->abce) (2.6.1)\n",
      "Requirement already satisfied: pytz>=2011k in c:\\users\\dom\\anaconda3\\lib\\site-packages (from pandas>=0.17.1->abce) (2017.2)\n",
      "Requirement already satisfied: decorator>=4.1.0 in c:\\users\\dom\\anaconda3\\lib\\site-packages (from networkx>=1.9.1->abce) (4.1.2)\n",
      "Requirement already satisfied: tornado in c:\\users\\dom\\anaconda3\\lib\\site-packages (from flexx>=0.4.1->abce) (4.5.2)\n",
      "Requirement already satisfied: PyYAML>=3.10 in c:\\users\\dom\\anaconda3\\lib\\site-packages (from dataset==0.8->abce) (3.12)\n",
      "Requirement already satisfied: sqlalchemy>=0.9.1 in c:\\users\\dom\\anaconda3\\lib\\site-packages (from dataset==0.8->abce) (1.1.13)\n",
      "Requirement already satisfied: normality>=0.3.9 in c:\\users\\dom\\anaconda3\\lib\\site-packages (from dataset==0.8->abce) (0.6.1)\n",
      "Requirement already satisfied: six>=1.7.3 in c:\\users\\dom\\anaconda3\\lib\\site-packages (from dataset==0.8->abce) (1.11.0)\n",
      "Requirement already satisfied: alembic>=0.6.2 in c:\\users\\dom\\anaconda3\\lib\\site-packages (from dataset==0.8->abce) (0.9.10)\n",
      "Requirement already satisfied: bkcharts>=0.2 in c:\\users\\dom\\anaconda3\\lib\\site-packages (from bokeh==0.12.7->abce) (0.2)\n",
      "Requirement already satisfied: Jinja2>=2.7 in c:\\users\\dom\\anaconda3\\lib\\site-packages (from bokeh==0.12.7->abce) (2.9.6)\n",
      "Requirement already satisfied: chardet in c:\\users\\dom\\anaconda3\\lib\\site-packages (from normality>=0.3.9->dataset==0.8->abce) (3.0.4)\n",
      "Requirement already satisfied: banal in c:\\users\\dom\\anaconda3\\lib\\site-packages (from normality>=0.3.9->dataset==0.8->abce) (0.3.7)\n",
      "Requirement already satisfied: python-editor>=0.3 in c:\\users\\dom\\anaconda3\\lib\\site-packages (from alembic>=0.6.2->dataset==0.8->abce) (1.0.3)\n",
      "Requirement already satisfied: Mako in c:\\users\\dom\\anaconda3\\lib\\site-packages (from alembic>=0.6.2->dataset==0.8->abce) (1.0.7)\n",
      "Requirement already satisfied: MarkupSafe>=0.23 in c:\\users\\dom\\anaconda3\\lib\\site-packages (from Jinja2>=2.7->bokeh==0.12.7->abce) (1.0)\n"
     ]
    }
   ],
   "source": [
    "!pip install abce"
   ]
  },
  {
   "cell_type": "code",
   "execution_count": 15,
   "metadata": {},
   "outputs": [],
   "source": []
  },
  {
   "cell_type": "code",
   "execution_count": 22,
   "metadata": {},
   "outputs": [
    {
     "ename": "AttributeError",
     "evalue": "'Firm' object has no attribute '_str_round'",
     "output_type": "error",
     "traceback": [
      "\u001b[1;31m---------------------------------------------------------------------------\u001b[0m",
      "\u001b[1;31mAttributeError\u001b[0m                            Traceback (most recent call last)",
      "\u001b[1;32m<ipython-input-22-e7bc5442512a>\u001b[0m in \u001b[0;36m<module>\u001b[1;34m()\u001b[0m\n\u001b[0;32m     32\u001b[0m     \u001b[0msimulation\u001b[0m\u001b[1;33m.\u001b[0m\u001b[0mtime\u001b[0m \u001b[1;33m=\u001b[0m \u001b[0mr\u001b[0m\u001b[1;33m\u001b[0m\u001b[0m\n\u001b[0;32m     33\u001b[0m \u001b[1;33m\u001b[0m\u001b[0m\n\u001b[1;32m---> 34\u001b[1;33m     \u001b[0mgroup_of_firms\u001b[0m\u001b[1;33m.\u001b[0m\u001b[0mpanel_log\u001b[0m\u001b[1;33m(\u001b[0m\u001b[0mvariables\u001b[0m\u001b[1;33m=\u001b[0m\u001b[1;33m[\u001b[0m\u001b[1;34m'wage'\u001b[0m\u001b[1;33m,\u001b[0m \u001b[1;34m'ideal_num_workers'\u001b[0m\u001b[1;33m]\u001b[0m\u001b[1;33m,\u001b[0m \u001b[0mgoods\u001b[0m\u001b[1;33m=\u001b[0m\u001b[1;33m[\u001b[0m\u001b[1;34m'workers'\u001b[0m\u001b[1;33m]\u001b[0m\u001b[1;33m)\u001b[0m\u001b[1;33m\u001b[0m\u001b[0m\n\u001b[0m\u001b[0;32m     35\u001b[0m     \u001b[0mpeople\u001b[0m\u001b[1;33m.\u001b[0m\u001b[0mcreate_labor\u001b[0m\u001b[1;33m(\u001b[0m\u001b[1;33m)\u001b[0m\u001b[1;33m\u001b[0m\u001b[0m\n\u001b[0;32m     36\u001b[0m \u001b[1;33m\u001b[0m\u001b[0m\n",
      "\u001b[1;32m~\\Anaconda3\\lib\\site-packages\\abce\\group.py\u001b[0m in \u001b[0;36mpanel_log\u001b[1;34m(self, variables, goods, func, len)\u001b[0m\n\u001b[0;32m    154\u001b[0m                 \u001b[0mhouseholds\u001b[0m\u001b[1;33m.\u001b[0m\u001b[0mbuying\u001b[0m\u001b[1;33m(\u001b[0m\u001b[1;33m)\u001b[0m\u001b[1;33m\u001b[0m\u001b[0m\n\u001b[0;32m    155\u001b[0m         \"\"\"\n\u001b[1;32m--> 156\u001b[1;33m         \u001b[0mself\u001b[0m\u001b[1;33m.\u001b[0m\u001b[0m_do\u001b[0m\u001b[1;33m(\u001b[0m\u001b[1;34m'_panel_log'\u001b[0m\u001b[1;33m,\u001b[0m \u001b[0mvariables\u001b[0m\u001b[1;33m,\u001b[0m \u001b[0mgoods\u001b[0m\u001b[1;33m,\u001b[0m \u001b[0mfunc\u001b[0m\u001b[1;33m,\u001b[0m \u001b[0mlen\u001b[0m\u001b[1;33m,\u001b[0m \u001b[0mself\u001b[0m\u001b[1;33m.\u001b[0m\u001b[0mlast_action\u001b[0m\u001b[1;33m)\u001b[0m\u001b[1;33m\u001b[0m\u001b[0m\n\u001b[0m\u001b[0;32m    157\u001b[0m \u001b[1;33m\u001b[0m\u001b[0m\n\u001b[0;32m    158\u001b[0m     \u001b[1;32mdef\u001b[0m \u001b[0magg_log\u001b[0m\u001b[1;33m(\u001b[0m\u001b[0mself\u001b[0m\u001b[1;33m,\u001b[0m \u001b[0mvariables\u001b[0m\u001b[1;33m=\u001b[0m\u001b[1;33m[\u001b[0m\u001b[1;33m]\u001b[0m\u001b[1;33m,\u001b[0m \u001b[0mgoods\u001b[0m\u001b[1;33m=\u001b[0m\u001b[1;33m[\u001b[0m\u001b[1;33m]\u001b[0m\u001b[1;33m,\u001b[0m \u001b[0mfunc\u001b[0m\u001b[1;33m=\u001b[0m\u001b[1;33m{\u001b[0m\u001b[1;33m}\u001b[0m\u001b[1;33m,\u001b[0m \u001b[0mlen\u001b[0m\u001b[1;33m=\u001b[0m\u001b[1;33m[\u001b[0m\u001b[1;33m]\u001b[0m\u001b[1;33m)\u001b[0m\u001b[1;33m:\u001b[0m\u001b[1;33m\u001b[0m\u001b[0m\n",
      "\u001b[1;32m~\\Anaconda3\\lib\\site-packages\\abce\\group.py\u001b[0m in \u001b[0;36m_do\u001b[1;34m(self, command, *args, **kwargs)\u001b[0m\n\u001b[0;32m    211\u001b[0m         \u001b[1;34m\"\"\" agent actions can be executed by :code:`group.action(args=args)`. \"\"\"\u001b[0m\u001b[1;33m\u001b[0m\u001b[0m\n\u001b[0;32m    212\u001b[0m         \u001b[0mself\u001b[0m\u001b[1;33m.\u001b[0m\u001b[0mlast_action\u001b[0m \u001b[1;33m=\u001b[0m \u001b[0mcommand\u001b[0m\u001b[1;33m\u001b[0m\u001b[0m\n\u001b[1;32m--> 213\u001b[1;33m         \u001b[1;32mreturn\u001b[0m \u001b[0mself\u001b[0m\u001b[1;33m.\u001b[0m\u001b[0m_agents\u001b[0m\u001b[1;33m.\u001b[0m\u001b[0mdo\u001b[0m\u001b[1;33m(\u001b[0m\u001b[0mself\u001b[0m\u001b[1;33m.\u001b[0m\u001b[0mnames\u001b[0m\u001b[1;33m,\u001b[0m \u001b[0mcommand\u001b[0m\u001b[1;33m,\u001b[0m \u001b[0margs\u001b[0m\u001b[1;33m,\u001b[0m \u001b[0mkwargs\u001b[0m\u001b[1;33m)\u001b[0m\u001b[1;33m\u001b[0m\u001b[0m\n\u001b[0m\u001b[0;32m    214\u001b[0m \u001b[1;33m\u001b[0m\u001b[0m\n\u001b[0;32m    215\u001b[0m     \u001b[1;32mdef\u001b[0m \u001b[0m__getattr__\u001b[0m\u001b[1;33m(\u001b[0m\u001b[0mself\u001b[0m\u001b[1;33m,\u001b[0m \u001b[0mcommand\u001b[0m\u001b[1;33m,\u001b[0m \u001b[1;33m*\u001b[0m\u001b[0margs\u001b[0m\u001b[1;33m,\u001b[0m \u001b[1;33m**\u001b[0m\u001b[0mkwargs\u001b[0m\u001b[1;33m)\u001b[0m\u001b[1;33m:\u001b[0m\u001b[1;33m\u001b[0m\u001b[0m\n",
      "\u001b[1;32m~\\Anaconda3\\lib\\site-packages\\abce\\singleprocess.py\u001b[0m in \u001b[0;36mdo\u001b[1;34m(self, names, command, args, kwargs)\u001b[0m\n\u001b[0;32m     50\u001b[0m         \u001b[0mself\u001b[0m\u001b[1;33m.\u001b[0m\u001b[0mrets\u001b[0m \u001b[1;33m=\u001b[0m \u001b[1;33m[\u001b[0m\u001b[1;33m]\u001b[0m\u001b[1;33m\u001b[0m\u001b[0m\n\u001b[0;32m     51\u001b[0m         \u001b[1;32mfor\u001b[0m \u001b[0mname\u001b[0m \u001b[1;32min\u001b[0m \u001b[0mnames\u001b[0m\u001b[1;33m:\u001b[0m\u001b[1;33m\u001b[0m\u001b[0m\n\u001b[1;32m---> 52\u001b[1;33m             \u001b[0mret\u001b[0m \u001b[1;33m=\u001b[0m \u001b[0mself\u001b[0m\u001b[1;33m.\u001b[0m\u001b[0magents\u001b[0m\u001b[1;33m[\u001b[0m\u001b[0mname\u001b[0m\u001b[1;33m]\u001b[0m\u001b[1;33m.\u001b[0m\u001b[0m_execute\u001b[0m\u001b[1;33m(\u001b[0m\u001b[0mcommand\u001b[0m\u001b[1;33m,\u001b[0m \u001b[0margs\u001b[0m\u001b[1;33m,\u001b[0m \u001b[0mkwargs\u001b[0m\u001b[1;33m)\u001b[0m\u001b[1;33m\u001b[0m\u001b[0m\n\u001b[0m\u001b[0;32m     53\u001b[0m             \u001b[0mself\u001b[0m\u001b[1;33m.\u001b[0m\u001b[0mrets\u001b[0m\u001b[1;33m.\u001b[0m\u001b[0mappend\u001b[0m\u001b[1;33m(\u001b[0m\u001b[0mret\u001b[0m\u001b[1;33m)\u001b[0m\u001b[1;33m\u001b[0m\u001b[0m\n\u001b[0;32m     54\u001b[0m \u001b[1;33m\u001b[0m\u001b[0m\n",
      "\u001b[1;32m~\\Anaconda3\\lib\\site-packages\\abce\\agent.py\u001b[0m in \u001b[0;36m_execute\u001b[1;34m(self, command, args, kwargs)\u001b[0m\n\u001b[0;32m    239\u001b[0m         \u001b[0mself\u001b[0m\u001b[1;33m.\u001b[0m\u001b[0minbox\u001b[0m\u001b[1;33m.\u001b[0m\u001b[0mclear\u001b[0m\u001b[1;33m(\u001b[0m\u001b[1;33m)\u001b[0m\u001b[1;33m\u001b[0m\u001b[0m\n\u001b[0;32m    240\u001b[0m         \u001b[0mself\u001b[0m\u001b[1;33m.\u001b[0m\u001b[0m_begin_subround\u001b[0m\u001b[1;33m(\u001b[0m\u001b[1;33m)\u001b[0m\u001b[1;33m\u001b[0m\u001b[0m\n\u001b[1;32m--> 241\u001b[1;33m         \u001b[0mret\u001b[0m \u001b[1;33m=\u001b[0m \u001b[0mgetattr\u001b[0m\u001b[1;33m(\u001b[0m\u001b[0mself\u001b[0m\u001b[1;33m,\u001b[0m \u001b[0mcommand\u001b[0m\u001b[1;33m)\u001b[0m\u001b[1;33m(\u001b[0m\u001b[1;33m*\u001b[0m\u001b[0margs\u001b[0m\u001b[1;33m,\u001b[0m \u001b[1;33m**\u001b[0m\u001b[0mkwargs\u001b[0m\u001b[1;33m)\u001b[0m\u001b[1;33m\u001b[0m\u001b[0m\n\u001b[0m\u001b[0;32m    242\u001b[0m         \u001b[0mself\u001b[0m\u001b[1;33m.\u001b[0m\u001b[0m_end_subround\u001b[0m\u001b[1;33m(\u001b[0m\u001b[1;33m)\u001b[0m\u001b[1;33m\u001b[0m\u001b[0m\n\u001b[0;32m    243\u001b[0m         \u001b[0mself\u001b[0m\u001b[1;33m.\u001b[0m\u001b[0m_reject_polled_but_not_accepted_offers\u001b[0m\u001b[1;33m(\u001b[0m\u001b[1;33m)\u001b[0m\u001b[1;33m\u001b[0m\u001b[0m\n",
      "\u001b[1;32m~\\Anaconda3\\lib\\site-packages\\abce\\database.py\u001b[0m in \u001b[0;36m_panel_log\u001b[1;34m(self, variables, possessions, functions, lengths, serial)\u001b[0m\n\u001b[0;32m    221\u001b[0m                                           \u001b[0mself\u001b[0m\u001b[1;33m.\u001b[0m\u001b[0mgroup\u001b[0m\u001b[1;33m,\u001b[0m\u001b[1;33m\u001b[0m\u001b[0m\n\u001b[0;32m    222\u001b[0m                                           \u001b[0mself\u001b[0m\u001b[1;33m.\u001b[0m\u001b[0m_str_name\u001b[0m\u001b[1;33m,\u001b[0m\u001b[1;33m\u001b[0m\u001b[0m\n\u001b[1;32m--> 223\u001b[1;33m                                           \u001b[0mself\u001b[0m\u001b[1;33m.\u001b[0m\u001b[0m_str_round\u001b[0m\u001b[1;33m,\u001b[0m\u001b[1;33m\u001b[0m\u001b[0m\n\u001b[0m\u001b[0;32m    224\u001b[0m                                           \u001b[0mdata_to_write\u001b[0m\u001b[1;33m,\u001b[0m\u001b[1;33m\u001b[0m\u001b[0m\n\u001b[0;32m    225\u001b[0m                                           serial])\n",
      "\u001b[1;31mAttributeError\u001b[0m: 'Firm' object has no attribute '_str_round'"
     ]
    }
   ],
   "source": [
    "import abce\n",
    "\n",
    "from interactiveABM.firm import Firm\n",
    "from interactiveABM.people import People\n",
    "\n",
    "params = dict(\n",
    "    population=1000,\n",
    "    people_money=1000,\n",
    "    num_firms=20,\n",
    "    firm_money=2000,\n",
    "\n",
    "    num_days=2000,\n",
    "\n",
    "    l=0.5,  # constant from CS equation\n",
    "\n",
    "    num_days_buffer=10,  # number of days worth of wages a firm will keep after giving profits\n",
    "\n",
    "    phi_upper=10,  # phi_upper * demand gives upper bound to inventory\n",
    "    phi_lower=2,\n",
    "    excess=1.1,  # if number of workers offered to work for firm exceeds 110% of ideal number, decrease wage\n",
    "    wage_increment=0.01,\n",
    "    price_increment=0.01,\n",
    "    worker_increment=0.01,\n",
    "    productivity=1,\n",
    "    wage_acceptance=1)\n",
    "simulation = abce.Simulation(name='economy', processes=1)\n",
    "group_of_firms = simulation.build_agents(Firm, \"firm\", number=params[\"num_firms\"], **params)\n",
    "people = simulation.build_agents(People, \"people\", number=1, **params)\n",
    "\n",
    "\n",
    "for r in range(params[\"num_days\"]):\n",
    "    simulation.time = r\n",
    "\n",
    "    group_of_firms.panel_log(variables=['wage', 'ideal_num_workers'], goods=['workers'])\n",
    "    people.create_labor()\n",
    "\n",
    "    vacancies_list = list(group_of_firms.publish_vacencies())\n",
    "\n",
    "    people.send_workers(vacancies_list)\n",
    "\n",
    "    group_of_firms.production()\n",
    "    group_of_firms.pay_workers()\n",
    "    group_of_firms.pay_dividents()\n",
    "    group_of_firms.send_prices()\n",
    "    people.get_prices()\n",
    "    demand = people.buy_goods()\n",
    "\n",
    "    group_of_firms.sell_goods()\n",
    "    group_of_firms.determine_bounds(demand=list(demand)[0])\n",
    "    (group_of_firms + people).print_possessions()\n",
    "    group_of_firms.determine_wage()\n",
    "    group_of_firms.expand_or_change_price()\n",
    "    (people + group_of_firms).destroy_unused_labor()\n",
    "    people.consumption()\n",
    "    group_of_firms.determine_profits()\n",
    "\n",
    "print('done')\n",
    "\n",
    "simulation.graph()\n",
    "simulation.finalize()\n"
   ]
  },
  {
   "cell_type": "code",
   "execution_count": null,
   "metadata": {},
   "outputs": [],
   "source": []
  }
 ],
 "metadata": {
  "kernelspec": {
   "display_name": "Python 3",
   "language": "python",
   "name": "python3"
  },
  "language_info": {
   "codemirror_mode": {
    "name": "ipython",
    "version": 3
   },
   "file_extension": ".py",
   "mimetype": "text/x-python",
   "name": "python",
   "nbconvert_exporter": "python",
   "pygments_lexer": "ipython3",
   "version": "3.6.3"
  }
 },
 "nbformat": 4,
 "nbformat_minor": 2
}
