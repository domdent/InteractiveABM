{
 "cells": [
  {
   "cell_type": "markdown",
   "metadata": {},
   "source": [
    "# A simple agent-based model"
   ]
  },
  {
   "cell_type": "markdown",
   "metadata": {},
   "source": [
    "## An interactive ABM"
   ]
  },
  {
   "cell_type": "markdown",
   "metadata": {},
   "source": [
    "### Use !pip install to install the various libraries used in the program. Press Shift+Enter while on the selected cell of code you want to run."
   ]
  },
  {
   "cell_type": "code",
   "execution_count": null,
   "metadata": {},
   "outputs": [],
   "source": [
    "!pip install --upgrade pip\n",
    "!pip install tornado==4.3 --upgrade\n",
    "!pip install git+https://github.com/AB-CE/abce.git@icis --upgrade \n",
    "!pip install plotly"
   ]
  },
  {
   "cell_type": "markdown",
   "metadata": {},
   "source": [
    "After you have run the installation code, you can now run the agent-based model:"
   ]
  },
  {
   "cell_type": "code",
   "execution_count": null,
   "metadata": {},
   "outputs": [],
   "source": [
    "import abce\n",
    "import pandas as pd\n",
    "\n",
    "from firm import Firm\n",
    "from people import People\n",
    "\n",
    "\n",
    "params = dict(\n",
    "    population=1000,\n",
    "    people_money=1000,\n",
    "    num_firms=20,\n",
    "    firm_money=2000,\n",
    "\n",
    "    num_days=2000,\n",
    "\n",
    "    l=0.5,  # constant from CS equation\n",
    "\n",
    "    num_days_buffer=10,  # number of days worth of wages a firm will keep after giving profits\n",
    "\n",
    "    phi_upper=10,  # phi_upper * demand gives upper bound to inventory\n",
    "    phi_lower=2,\n",
    "    excess=1.1,  # if number of workers offered to work for firm exceeds 110% of ideal number, decrease wage\n",
    "    wage_increment=0.01,\n",
    "    price_increment=0.01,\n",
    "    worker_increment=0.01,\n",
    "    productivity=1,\n",
    "    wage_acceptance=1)\n",
    "simulation = abce.Simulation(name='economy', processes=1)\n",
    "group_of_firms = simulation.build_agents(Firm, \"firm\", number=params[\"num_firms\"], **params)\n",
    "people = simulation.build_agents(People, \"people\", number=1, **params)\n",
    "\n",
    "for r in range(params[\"num_days\"]):\n",
    "    simulation.time = r\n",
    "\n",
    "    group_of_firms.panel_log(variables=['wage', 'ideal_num_workers'], goods=['workers'])\n",
    "    people.create_labor()\n",
    "\n",
    "    vacancies_list = list(group_of_firms.publish_vacencies())\n",
    "\n",
    "    people.send_workers(vacancies_list)\n",
    "\n",
    "    group_of_firms.production()\n",
    "    group_of_firms.pay_workers()\n",
    "    group_of_firms.pay_dividents()\n",
    "    group_of_firms.send_prices()\n",
    "    people.get_prices()\n",
    "    demand = people.buy_goods()\n",
    "\n",
    "    group_of_firms.sell_goods()\n",
    "    group_of_firms.determine_bounds(demand=list(demand)[0])\n",
    "    (group_of_firms + people).print_possessions()\n",
    "    group_of_firms.determine_wage()\n",
    "    group_of_firms.expand_or_change_price()\n",
    "    (people + group_of_firms).destroy_unused_labor()\n",
    "    people.consumption()\n",
    "    group_of_firms.determine_profits()\n",
    "\n",
    "print('done')\n",
    "path = simulation.path\n",
    "\n",
    "simulation.finalize()\n",
    "\n",
    "df = pd.read_csv(path + \"/panel_firm.csv\")"
   ]
  },
  {
   "cell_type": "markdown",
   "metadata": {},
   "source": [
    "Once this cell is completed (it might take some time) there will now be a DataFrame with the relevant ABM data in it. By running the next cell you can see the general layout of this dataset."
   ]
  },
  {
   "cell_type": "code",
   "execution_count": null,
   "metadata": {},
   "outputs": [],
   "source": [
    "df.head()"
   ]
  },
  {
   "cell_type": "markdown",
   "metadata": {},
   "source": [
    "This next cell of code contains a new function that will let you produce a graph of one of the variables from the DataFrame."
   ]
  },
  {
   "cell_type": "code",
   "execution_count": null,
   "metadata": {},
   "outputs": [],
   "source": [
    "# Plotting method\n",
    "import plotly.plotly as py\n",
    "import plotly.graph_objs as go\n",
    "\n",
    "\n",
    "def GraphFn(graphing_variable):\n",
    "    \"\"\"\n",
    "    function that takes in graphing variable as parameter and the produces a graph\n",
    "    using plotly\n",
    "    \"\"\"\n",
    "    x_data = [[] for _ in range(params[\"num_firms\"])]\n",
    "    y_data = [[] for _ in range(params[\"num_firms\"])]\n",
    "\n",
    "    for i in range(len(df)):\n",
    "        name = df[\"name\"][i]\n",
    "        number = int(name[4:])\n",
    "        x_data[number].append(df[\"round\"][i])\n",
    "        y_data[number].append(df[graphing_variable][i])\n",
    "\n",
    "    data = []    \n",
    "\n",
    "    for i in range(params[\"num_firms\"]):\n",
    "        data.append(go.Scatter(x = x_data[i],\n",
    "                            y = y_data[i],\n",
    "                            mode = \"lines\"))\n",
    "                            #name = (\"firm\" + str(i))))\n",
    "\n",
    "\n",
    "    import plotly.offline as offline\n",
    "\n",
    "    offline.init_notebook_mode()\n",
    "    offline.iplot(data)"
   ]
  },
  {
   "cell_type": "markdown",
   "metadata": {},
   "source": [
    "You can now look at the values for a variable from the firms, for example if you run the next cell you will be able to see the time evolution of each firms production:"
   ]
  },
  {
   "cell_type": "code",
   "execution_count": null,
   "metadata": {},
   "outputs": [],
   "source": [
    "GraphFn(\"production\")\n",
    "    "
   ]
  }
 ],
 "metadata": {
  "kernelspec": {
   "display_name": "Python 3",
   "language": "python",
   "name": "python3"
  },
  "language_info": {
   "codemirror_mode": {
    "name": "ipython",
    "version": 3
   },
   "file_extension": ".py",
   "mimetype": "text/x-python",
   "name": "python",
   "nbconvert_exporter": "python",
   "pygments_lexer": "ipython3",
   "version": "3.6.3"
  }
 },
 "nbformat": 4,
 "nbformat_minor": 2
}
