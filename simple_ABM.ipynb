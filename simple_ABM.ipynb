{
 "cells": [
  {
   "cell_type": "markdown",
   "metadata": {},
   "source": [
    "# A simple agent-based model"
   ]
  },
  {
   "cell_type": "markdown",
   "metadata": {},
   "source": [
    "## An interactive ABM"
   ]
  },
  {
   "cell_type": "markdown",
   "metadata": {},
   "source": [
    "### Use !pip install to install the various libraries used in the program. Press Shift+Enter while on the selected cell of code you want to run."
   ]
  },
  {
   "cell_type": "code",
   "execution_count": null,
   "metadata": {},
   "outputs": [],
   "source": [
    "!pip install --upgrade pip\n",
    "!pip install git+https://github.com/AB-CE/abce.git@icis --upgrade \n",
    "!pip install tornado==4.5.3 --upgrade\n",
    "!pip install plotly"
   ]
  },
  {
   "cell_type": "markdown",
   "metadata": {},
   "source": [
    "### After you have run the installation code, you can now run the agent-based model:\n",
    "\n",
    "It may take a bit of time to run."
   ]
  },
  {
   "cell_type": "code",
   "execution_count": null,
   "metadata": {},
   "outputs": [],
   "source": [
    "import abce\n",
    "import pandas as pd\n",
    "\n",
    "from firm import Firm\n",
    "from people import People\n",
    "\n",
    "\n",
    "params = dict(\n",
    "    population=1000,\n",
    "    people_money=1000,\n",
    "    num_firms=20,\n",
    "    firm_money=2000,\n",
    "\n",
    "    num_days=2000,\n",
    "\n",
    "    l=0.5,  # constant from CS equation\n",
    "\n",
    "    num_days_buffer=10,  # number of days worth of wages a firm will keep after giving profits\n",
    "\n",
    "    phi_upper=10,  # phi_upper * demand gives upper bound to inventory\n",
    "    phi_lower=2,\n",
    "    excess=1.1,  # if number of workers offered to work for firm exceeds 110% of ideal number, decrease wage\n",
    "    wage_increment=0.01,\n",
    "    price_increment=0.01,\n",
    "    worker_increment=0.01,\n",
    "    productivity=1,\n",
    "    wage_acceptance=1)"
   ]
  },
  {
   "cell_type": "markdown",
   "metadata": {},
   "source": []
  },
  {
   "cell_type": "code",
   "execution_count": null,
   "metadata": {},
   "outputs": [],
   "source": [
    "simulation = abce.Simulation(name='economy', processes=1)\n",
    "group_of_firms = simulation.build_agents(Firm, \"firm\", number=params[\"num_firms\"], **params)\n",
    "people = simulation.build_agents(People, \"people\", number=1, **params)\n",
    "\n",
    "for r in range(params[\"num_days\"]):\n",
    "    simulation.time = r\n",
    "\n",
    "    group_of_firms.panel_log(variables=['wage', 'ideal_num_workers'], goods=['workers'])\n",
    "    people.create_labor()\n",
    "\n",
    "    vacancies_list = list(group_of_firms.publish_vacencies())\n",
    "\n",
    "    people.send_workers(vacancies_list)\n",
    "\n",
    "    group_of_firms.production()\n",
    "    group_of_firms.pay_workers()\n",
    "    group_of_firms.pay_dividents()\n",
    "    group_of_firms.send_prices()\n",
    "    people.get_prices()\n",
    "    demand = people.buy_goods()\n",
    "\n",
    "    group_of_firms.sell_goods()\n",
    "    group_of_firms.determine_bounds(demand=list(demand)[0])\n",
    "    (group_of_firms + people).print_possessions()\n",
    "    group_of_firms.determine_wage()\n",
    "    group_of_firms.expand_or_change_price()\n",
    "    (people + group_of_firms).destroy_unused_labor()\n",
    "    people.consumption()\n",
    "    group_of_firms.determine_profits()\n",
    "\n",
    "print('done')\n",
    "path = simulation.path\n",
    "\n",
    "simulation.finalize()\n",
    "\n",
    "df = pd.read_csv(path + \"/panel_firm.csv\")"
   ]
  },
  {
   "cell_type": "markdown",
   "metadata": {},
   "source": [
    "##### The code will start by importing the firm and people agents from firm.py and people.py. \n",
    "\n",
    "At the top of the code there is a dictionary containing all the parameters, you can change these parameters to get different final effects on the outcome of the simulation.\n",
    "\n",
    "Then, the code will loop over each day and perform various methods called from the firm and people agents. \n",
    "\n",
    "### Each day:\n",
    "\n",
    "1) First the people agent will create labour for the day to be distributed between the firms.\n",
    "\n",
    "2) The group of firms will then send the people agent the list of vacancies they are offering based on the various amounts of resources they have and value for certain parameters. (details can be found by looking at firm.py)\n",
    "\n",
    "3) The people will then send the workers based on the vacancies\n",
    "\n",
    "4) For each worker, one good is produced in a day\n",
    "\n",
    "5) After production, the workers are paid, the profits after the firm's buffer has been stored are sent to the bosses (represented in the same \"people\" agent)\n",
    "\n",
    "6) Then the bounds on inventory and prices are changed based on demand etc.\n",
    "\n",
    "7) Wages are also calculated for the next round\n",
    "\n",
    "8) Then the unused labour is destoyed and the people consume goods\n",
    "\n",
    "9) Repeat for the next day...\n",
    "\n",
    "The results are then stored in a pandas DataFrame.\n",
    "\n"
   ]
  },
  {
   "cell_type": "markdown",
   "metadata": {},
   "source": [
    "### By running the next cell you can see the general layout of this dataset and some of the variables that you can graph."
   ]
  },
  {
   "cell_type": "code",
   "execution_count": null,
   "metadata": {},
   "outputs": [],
   "source": [
    "df.head()"
   ]
  },
  {
   "cell_type": "markdown",
   "metadata": {},
   "source": [
    "### This next cell of code contains a new function that will let you produce a graph of one of the variables from the DataFrame."
   ]
  },
  {
   "cell_type": "code",
   "execution_count": null,
   "metadata": {},
   "outputs": [],
   "source": [
    "# Plotting method\n",
    "import plotly.plotly as py\n",
    "import plotly.graph_objs as go\n",
    "\n",
    "\n",
    "def GraphFn(graphing_variable):\n",
    "    \"\"\"\n",
    "    function that takes in graphing variable as parameter and the produces a graph\n",
    "    using plotly\n",
    "    \"\"\"\n",
    "    x_data = [[] for _ in range(params[\"num_firms\"])]\n",
    "    y_data = [[] for _ in range(params[\"num_firms\"])]\n",
    "\n",
    "    for i in range(len(df)):\n",
    "        name = df[\"name\"][i]\n",
    "        number = int(name[4:])\n",
    "        x_data[number].append(df[\"round\"][i])\n",
    "        y_data[number].append(df[graphing_variable][i])\n",
    "\n",
    "    data = []    \n",
    "\n",
    "    for i in range(params[\"num_firms\"]):\n",
    "        data.append(go.Scatter(x = x_data[i],\n",
    "                            y = y_data[i],\n",
    "                            mode = \"lines\"))\n",
    "                            #name = (\"firm\" + str(i))))\n",
    "\n",
    "\n",
    "    import plotly.offline as offline\n",
    "\n",
    "    offline.init_notebook_mode(connected=True)\n",
    "    offline.iplot(data)"
   ]
  },
  {
   "cell_type": "markdown",
   "metadata": {},
   "source": [
    "### You can now look at the values for a variable from the firms, for example if you run the next cell you will be able to see the time evolution of each firms production:"
   ]
  },
  {
   "cell_type": "code",
   "execution_count": null,
   "metadata": {},
   "outputs": [],
   "source": [
    "GraphFn(\"production\")\n",
    "    "
   ]
  },
  {
   "cell_type": "markdown",
   "metadata": {},
   "source": [
    "## Have a play around calling \"GraphFn()\" for other variables or edit some of the parameters in the main body of the code"
   ]
  },
  {
   "cell_type": "code",
   "execution_count": null,
   "metadata": {},
   "outputs": [],
   "source": []
  }
 ],
 "metadata": {
  "kernelspec": {
   "display_name": "Python 3",
   "language": "python",
   "name": "python3"
  },
  "language_info": {
   "codemirror_mode": {
    "name": "ipython",
    "version": 3
   },
   "file_extension": ".py",
   "mimetype": "text/x-python",
   "name": "python",
   "nbconvert_exporter": "python",
   "pygments_lexer": "ipython3",
   "version": "3.6.3"
  }
 },
 "nbformat": 4,
 "nbformat_minor": 2
}
