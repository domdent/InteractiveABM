{
 "cells": [
  {
   "cell_type": "markdown",
   "metadata": {},
   "source": [
    "# A simple agent-based model"
   ]
  },
  {
   "cell_type": "markdown",
   "metadata": {},
   "source": [
    "## An interactive ABM"
   ]
  },
  {
   "cell_type": "markdown",
   "metadata": {},
   "source": [
    "### Use !pip install to install the various libraries used in the program. Press Shift+Enter while on the selected cell of code you want to run."
   ]
  },
  {
   "cell_type": "code",
   "execution_count": 13,
   "metadata": {},
   "outputs": [
    {
     "name": "stdout",
     "output_type": "stream",
     "text": [
      "Collecting git+https://github.com/AB-CE/abce.git@icis\n",
      "  Cloning https://github.com/AB-CE/abce.git (to revision icis) to c:\\users\\dom\\appdata\\local\\temp\\pip-req-build-hp1fhpr6\n",
      "Requirement not upgraded as not directly required: flexx>=0.4.1 in c:\\users\\dom\\anaconda3\\lib\\site-packages (from abce==0.9.5b0) (0.4.1)\n",
      "Requirement not upgraded as not directly required: future in c:\\users\\dom\\anaconda3\\lib\\site-packages (from abce==0.9.5b0) (0.16.0)\n",
      "Requirement not upgraded as not directly required: dataset==0.8 in c:\\users\\dom\\anaconda3\\lib\\site-packages (from abce==0.9.5b0) (0.8.0)\n",
      "Requirement not upgraded as not directly required: numpy>=1.10.2p in c:\\users\\dom\\anaconda3\\lib\\site-packages (from abce==0.9.5b0) (1.13.3)\n",
      "Requirement not upgraded as not directly required: pandas>=0.17.1 in c:\\users\\dom\\anaconda3\\lib\\site-packages (from abce==0.9.5b0) (0.20.3)\n",
      "Requirement not upgraded as not directly required: bokeh==0.12.16 in c:\\users\\dom\\anaconda3\\lib\\site-packages (from abce==0.9.5b0) (0.12.16)\n",
      "Requirement not upgraded as not directly required: tornado==4.3 in c:\\users\\dom\\anaconda3\\lib\\site-packages (from abce==0.9.5b0) (4.3)\n",
      "Requirement not upgraded as not directly required: sqlalchemy>=0.9.1 in c:\\users\\dom\\anaconda3\\lib\\site-packages (from dataset==0.8->abce==0.9.5b0) (1.1.13)\n",
      "Requirement not upgraded as not directly required: six>=1.7.3 in c:\\users\\dom\\anaconda3\\lib\\site-packages (from dataset==0.8->abce==0.9.5b0) (1.11.0)\n",
      "Requirement not upgraded as not directly required: normality>=0.3.9 in c:\\users\\dom\\anaconda3\\lib\\site-packages (from dataset==0.8->abce==0.9.5b0) (0.6.1)\n",
      "Requirement not upgraded as not directly required: alembic>=0.6.2 in c:\\users\\dom\\anaconda3\\lib\\site-packages (from dataset==0.8->abce==0.9.5b0) (0.9.10)\n",
      "Requirement not upgraded as not directly required: PyYAML>=3.10 in c:\\users\\dom\\anaconda3\\lib\\site-packages (from dataset==0.8->abce==0.9.5b0) (3.12)\n",
      "Requirement not upgraded as not directly required: python-dateutil>=2 in c:\\users\\dom\\anaconda3\\lib\\site-packages (from pandas>=0.17.1->abce==0.9.5b0) (2.6.1)\n",
      "Requirement not upgraded as not directly required: pytz>=2011k in c:\\users\\dom\\anaconda3\\lib\\site-packages (from pandas>=0.17.1->abce==0.9.5b0) (2017.2)\n",
      "Requirement not upgraded as not directly required: Jinja2>=2.7 in c:\\users\\dom\\anaconda3\\lib\\site-packages (from bokeh==0.12.16->abce==0.9.5b0) (2.9.6)\n",
      "Requirement not upgraded as not directly required: packaging>=16.8 in c:\\users\\dom\\anaconda3\\lib\\site-packages (from bokeh==0.12.16->abce==0.9.5b0) (16.8)\n",
      "Requirement not upgraded as not directly required: chardet in c:\\users\\dom\\anaconda3\\lib\\site-packages (from normality>=0.3.9->dataset==0.8->abce==0.9.5b0) (3.0.4)\n",
      "Requirement not upgraded as not directly required: banal in c:\\users\\dom\\anaconda3\\lib\\site-packages (from normality>=0.3.9->dataset==0.8->abce==0.9.5b0) (0.3.7)\n",
      "Requirement not upgraded as not directly required: Mako in c:\\users\\dom\\anaconda3\\lib\\site-packages (from alembic>=0.6.2->dataset==0.8->abce==0.9.5b0) (1.0.7)\n",
      "Requirement not upgraded as not directly required: python-editor>=0.3 in c:\\users\\dom\\anaconda3\\lib\\site-packages (from alembic>=0.6.2->dataset==0.8->abce==0.9.5b0) (1.0.3)\n",
      "Requirement not upgraded as not directly required: MarkupSafe>=0.23 in c:\\users\\dom\\anaconda3\\lib\\site-packages (from Jinja2>=2.7->bokeh==0.12.16->abce==0.9.5b0) (1.0)\n",
      "Requirement not upgraded as not directly required: pyparsing in c:\\users\\dom\\anaconda3\\lib\\site-packages (from packaging>=16.8->bokeh==0.12.16->abce==0.9.5b0) (2.2.0)\n",
      "Building wheels for collected packages: abce\n",
      "  Running setup.py bdist_wheel for abce: started\n",
      "  Running setup.py bdist_wheel for abce: finished with status 'done'\n",
      "  Stored in directory: C:\\Users\\Dom\\AppData\\Local\\Temp\\pip-ephem-wheel-cache-k6_jptio\\wheels\\c0\\5f\\56\\663c84820b723287ec0eb3675eccc1f08f4a85b42cc43182e4\n",
      "Successfully built abce\n",
      "Installing collected packages: abce\n",
      "  Found existing installation: abce 0.9.5b0\n",
      "    Uninstalling abce-0.9.5b0:\n",
      "      Successfully uninstalled abce-0.9.5b0\n",
      "Successfully installed abce-0.9.5b0\n"
     ]
    },
    {
     "name": "stderr",
     "output_type": "stream",
     "text": [
      "distributed 1.19.1 has requirement tornado>=4.5.1, but you'll have tornado 4.3 which is incompatible.\n"
     ]
    },
    {
     "name": "stdout",
     "output_type": "stream",
     "text": [
      "Collecting tornado==4.5.3\n",
      "  Using cached https://files.pythonhosted.org/packages/0a/29/01057551db50f718fda2afa0e42abdfccca4f8b18fa6163c59588ae8e991/tornado-4.5.3-cp36-cp36m-win_amd64.whl\n",
      "Installing collected packages: tornado\n",
      "  Found existing installation: tornado 4.3\n",
      "    Uninstalling tornado-4.3:\n",
      "      Successfully uninstalled tornado-4.3\n",
      "Successfully installed tornado-4.5.3\n"
     ]
    },
    {
     "name": "stderr",
     "output_type": "stream",
     "text": [
      "abceconomics 0.9.5b0 has requirement tornado==4.3, but you'll have tornado 4.5.3 which is incompatible.\n",
      "abce 0.9.5b0 has requirement tornado==4.3, but you'll have tornado 4.5.3 which is incompatible.\n"
     ]
    },
    {
     "name": "stdout",
     "output_type": "stream",
     "text": [
      "Requirement already satisfied: plotly in c:\\users\\dom\\anaconda3\\lib\\site-packages (3.0.0)\n",
      "Requirement already satisfied: requests in c:\\users\\dom\\anaconda3\\lib\\site-packages (from plotly) (2.18.4)\n",
      "Requirement already satisfied: six in c:\\users\\dom\\anaconda3\\lib\\site-packages (from plotly) (1.11.0)\n",
      "Requirement already satisfied: decorator>=4.0.6 in c:\\users\\dom\\anaconda3\\lib\\site-packages (from plotly) (4.1.2)\n",
      "Requirement already satisfied: nbformat>=4.2 in c:\\users\\dom\\anaconda3\\lib\\site-packages (from plotly) (4.4.0)\n",
      "Requirement already satisfied: pytz in c:\\users\\dom\\anaconda3\\lib\\site-packages (from plotly) (2017.2)\n",
      "Requirement already satisfied: retrying>=1.3.3 in c:\\users\\dom\\anaconda3\\lib\\site-packages (from plotly) (1.3.3)\n",
      "Requirement already satisfied: chardet<3.1.0,>=3.0.2 in c:\\users\\dom\\anaconda3\\lib\\site-packages (from requests->plotly) (3.0.4)\n",
      "Requirement already satisfied: idna<2.7,>=2.5 in c:\\users\\dom\\anaconda3\\lib\\site-packages (from requests->plotly) (2.6)\n",
      "Requirement already satisfied: urllib3<1.23,>=1.21.1 in c:\\users\\dom\\anaconda3\\lib\\site-packages (from requests->plotly) (1.22)\n",
      "Requirement already satisfied: certifi>=2017.4.17 in c:\\users\\dom\\anaconda3\\lib\\site-packages (from requests->plotly) (2018.4.16)\n",
      "Requirement already satisfied: ipython_genutils in c:\\users\\dom\\anaconda3\\lib\\site-packages (from nbformat>=4.2->plotly) (0.2.0)\n",
      "Requirement already satisfied: traitlets>=4.1 in c:\\users\\dom\\anaconda3\\lib\\site-packages (from nbformat>=4.2->plotly) (4.3.2)\n",
      "Requirement already satisfied: jsonschema!=2.5.0,>=2.4 in c:\\users\\dom\\anaconda3\\lib\\site-packages (from nbformat>=4.2->plotly) (2.6.0)\n",
      "Requirement already satisfied: jupyter_core in c:\\users\\dom\\anaconda3\\lib\\site-packages (from nbformat>=4.2->plotly) (4.3.0)\n"
     ]
    },
    {
     "name": "stderr",
     "output_type": "stream",
     "text": [
      "abceconomics 0.9.5b0 has requirement tornado==4.3, but you'll have tornado 4.5.3 which is incompatible.\n",
      "abce 0.9.5b0 has requirement tornado==4.3, but you'll have tornado 4.5.3 which is incompatible.\n"
     ]
    },
    {
     "name": "stdout",
     "output_type": "stream",
     "text": [
      "Collecting jupyterlab_plotly\n"
     ]
    },
    {
     "name": "stderr",
     "output_type": "stream",
     "text": [
      "  Could not find a version that satisfies the requirement jupyterlab_plotly (from versions: )\n",
      "No matching distribution found for jupyterlab_plotly\n"
     ]
    }
   ],
   "source": [
    "!pip install --upgrade pip\n",
    "!pip install git+https://github.com/AB-CE/abce.git@icis --upgrade \n",
    "!pip install tornado==4.5.3 --upgrade\n",
    "!pip install plotly\n",
    "!pip install jupyterlab_plotly\n"
   ]
  },
  {
   "cell_type": "markdown",
   "metadata": {},
   "source": [
    "### The next cell contains all the parameters that are used to vary the model"
   ]
  },
  {
   "cell_type": "code",
   "execution_count": null,
   "metadata": {},
   "outputs": [],
   "source": [
    "import abce\n",
    "import pandas as pd\n",
    "\n",
    "from firm import Firm\n",
    "from people import People\n",
    "\n",
    "\n",
    "params = dict(\n",
    "    population=1000,\n",
    "    people_money=1000,\n",
    "    num_firms=20,\n",
    "    firm_money=2000,\n",
    "\n",
    "    num_days=2000,\n",
    "\n",
    "    l=0.5,  # constant from CS equation\n",
    "\n",
    "    num_days_buffer=10,  # number of days worth of wages a firm will keep after giving profits\n",
    "\n",
    "    phi_upper=10,  # phi_upper * demand gives upper bound to inventory\n",
    "    phi_lower=2,\n",
    "    excess=1.1,  # if number of workers offered to work for firm exceeds 110% of ideal number, decrease wage\n",
    "    wage_increment=0.01,\n",
    "    price_increment=0.01,\n",
    "    worker_increment=0.01,\n",
    "    productivity=1,\n",
    "    wage_acceptance=1)"
   ]
  },
  {
   "cell_type": "markdown",
   "metadata": {},
   "source": [
    "## You can now run the simulation:"
   ]
  },
  {
   "cell_type": "code",
   "execution_count": null,
   "metadata": {},
   "outputs": [],
   "source": [
    "simulation = abce.Simulation(name='economy', processes=1)\n",
    "group_of_firms = simulation.build_agents(Firm, \"firm\", number=params[\"num_firms\"], **params)\n",
    "people = simulation.build_agents(People, \"people\", number=1, **params)\n",
    "\n",
    "for r in range(params[\"num_days\"]):\n",
    "    simulation.time = r\n",
    "\n",
    "    group_of_firms.panel_log(variables=['wage', 'ideal_num_workers'], goods=['workers'])\n",
    "    people.create_labor()\n",
    "\n",
    "    vacancies_list = list(group_of_firms.publish_vacencies())\n",
    "\n",
    "    people.send_workers(vacancies_list)\n",
    "\n",
    "    group_of_firms.production()\n",
    "    group_of_firms.pay_workers()\n",
    "    group_of_firms.pay_dividents()\n",
    "    group_of_firms.send_prices()\n",
    "    people.get_prices()\n",
    "    demand = people.buy_goods()\n",
    "\n",
    "    group_of_firms.sell_goods()\n",
    "    group_of_firms.determine_bounds(demand=list(demand)[0])\n",
    "    (group_of_firms + people).print_possessions()\n",
    "    group_of_firms.determine_wage()\n",
    "    group_of_firms.expand_or_change_price()\n",
    "    (people + group_of_firms).destroy_unused_labor()\n",
    "    people.consumption()\n",
    "    group_of_firms.determine_profits()\n",
    "\n",
    "print('done')\n",
    "path = simulation.path\n",
    "print(path)\n",
    "simulation.finalize()\n",
    "df = pd.read_csv(path + \"/panel_firm.csv\")\n",
    "\n",
    "df.head()"
   ]
  },
  {
   "cell_type": "markdown",
   "metadata": {},
   "source": [
    "##### The code will start by importing the firm and people agents from firm.py and people.py. \n",
    "\n",
    "At the top of the code there is a dictionary containing all the parameters, you can change these parameters to get different final effects on the outcome of the simulation.\n",
    "\n",
    "Then, the code will loop over each day and perform various methods called from the firm and people agents. \n",
    "\n",
    "### Each day:\n",
    "\n",
    "1) First the people agent will create labour for the day to be distributed between the firms.\n",
    "\n",
    "2) The group of firms will then send the people agent the list of vacancies they are offering based on the various amounts of resources they have and value for certain parameters. (details can be found by looking at firm.py)\n",
    "\n",
    "3) The people will then send the workers based on the vacancies\n",
    "\n",
    "4) For each worker, one good is produced in a day\n",
    "\n",
    "5) After production, the workers are paid, the profits after the firm's buffer has been stored are sent to the bosses (represented in the same \"people\" agent)\n",
    "\n",
    "6) Then the bounds on inventory and prices are changed based on demand etc.\n",
    "\n",
    "7) Wages are also calculated for the next round\n",
    "\n",
    "8) Then the unused labour is destoyed and the people consume goods\n",
    "\n",
    "9) Repeat for the next day...\n",
    "\n",
    "The results are then stored in a pandas DataFrame.\n",
    "\n"
   ]
  },
  {
   "cell_type": "markdown",
   "metadata": {},
   "source": [
    "### By running the next cell you can see the general layout of this dataset and some of the variables that you can graph."
   ]
  },
  {
   "cell_type": "code",
   "execution_count": null,
   "metadata": {},
   "outputs": [],
   "source": [
    "df.head()"
   ]
  },
  {
   "cell_type": "markdown",
   "metadata": {},
   "source": [
    "### This next cell of code contains a new function that will let you produce a graph of one of the variables from the DataFrame."
   ]
  },
  {
   "cell_type": "code",
   "execution_count": null,
   "metadata": {},
   "outputs": [],
   "source": [
    "# Plotting method\n",
    "import plotly.plotly as py\n",
    "import plotly.graph_objs as go\n",
    "\n",
    "\n",
    "def GraphFn(graphing_variable):\n",
    "    \"\"\"\n",
    "    function that takes in graphing variable as parameter and the produces a graph\n",
    "    using plotly\n",
    "    \"\"\"\n",
    "    x_data = [[] for _ in range(params[\"num_firms\"])]\n",
    "    y_data = [[] for _ in range(params[\"num_firms\"])]\n",
    "\n",
    "    for i in range(len(df)):\n",
    "        name = df[\"name\"][i]\n",
    "        number = int(name[4:])\n",
    "        x_data[number].append(df[\"round\"][i])\n",
    "        y_data[number].append(df[graphing_variable][i])\n",
    "\n",
    "    data = []    \n",
    "\n",
    "    for i in range(params[\"num_firms\"]):\n",
    "        data.append(go.Scatter(x = x_data[i],\n",
    "                            y = y_data[i],\n",
    "                            mode = \"lines\"))\n",
    "                            #name = (\"firm\" + str(i))))\n",
    "\n",
    "\n",
    "    import plotly.offline as offline\n",
    "\n",
    "    offline.init_notebook_mode(connected=True)\n",
    "    offline.iplot(data)"
   ]
  },
  {
   "cell_type": "markdown",
   "metadata": {},
   "source": [
    "### You can now look at the values for a variable from the firms, for example if you run the next cell you will be able to see the time evolution of each firms production:"
   ]
  },
  {
   "cell_type": "code",
   "execution_count": null,
   "metadata": {},
   "outputs": [],
   "source": [
    "GraphFn(\"production\")"
   ]
  },
  {
   "cell_type": "markdown",
   "metadata": {},
   "source": [
    "## Have a play around calling \"GraphFn()\" for other variables or edit some of the parameters in the main body of the code"
   ]
  },
  {
   "cell_type": "code",
   "execution_count": null,
   "metadata": {},
   "outputs": [],
   "source": []
  }
 ],
 "metadata": {
  "kernelspec": {
   "display_name": "Python 3",
   "language": "python",
   "name": "python3"
  },
  "language_info": {
   "codemirror_mode": {
    "name": "ipython",
    "version": 3
   },
   "file_extension": ".py",
   "mimetype": "text/x-python",
   "name": "python",
   "nbconvert_exporter": "python",
   "pygments_lexer": "ipython3",
   "version": "3.6.3"
  }
 },
 "nbformat": 4,
 "nbformat_minor": 2
}
